{
 "cells": [
  {
   "cell_type": "code",
   "execution_count": null,
   "id": "ab4d96ce-b898-4563-a8fc-66a8fa5c97a1",
   "metadata": {},
   "outputs": [],
   "source": [
    "import warnings\n",
    "warnings.filterwarnings(action='ignore')\n",
    "import pandas as pd\n",
    "import numpy as np\n",
    "import matplotlib.pyplot as plt\n",
    "import seaborn as sns\n",
    "from scipy import stats\n",
    "import statsmodels.api as sm\n",
    "from statsmodels.formula.api import ols\n",
    "from statsmodels.stats.multicomp import pairwise_tukeyhsd\n",
    "from statsmodels.stats.proportion import proportions_ztest\n",
    "from itertools import combinations\n",
    "from scipy.stats import chi2_contingency\n",
    "# sns.set_style(\"whitegrid\")\n",
    "plt.rcParams['figure.dpi'] = 400\n",
    "sns.set_theme(\"notebook\")"
   ]
  },
  {
   "cell_type": "code",
   "execution_count": null,
   "id": "87d58b50-55f9-4718-9d06-8986d0de56b6",
   "metadata": {},
   "outputs": [],
   "source": [
    "patients = pd.read_csv(\"experiment_data/prostate_tumours_patients.csv\")\n",
    "tumours = pd.read_csv(\"experiment_data/prostate_tumours.csv\", low_memory=False)"
   ]
  },
  {
   "cell_type": "code",
   "execution_count": null,
   "id": "8d25333d-fd9f-4810-909b-000347550d07",
   "metadata": {},
   "outputs": [],
   "source": [
    "print(patients.columns)\n",
    "print(tumours.columns)"
   ]
  },
  {
   "cell_type": "code",
   "execution_count": null,
   "id": "2e0d7029-d918-4942-bf3d-533fd29dccfe",
   "metadata": {},
   "outputs": [],
   "source": [
    "ethnicities = pd.read_excel(\"../../data/simulacrum_v2.1.0/Documents/all_z_lookup_tables.xlsx\", sheet_name='z_ethnicity')\n",
    "\n",
    "ethnicities"
   ]
  },
  {
   "cell_type": "code",
   "execution_count": null,
   "id": "ecb9dc4e-1211-42fd-a53d-227c96fb86db",
   "metadata": {},
   "outputs": [],
   "source": [
    "ethnicity_mapper = {\n",
    "    '0': 'White',\n",
    "    '8': 'Other',\n",
    "    'A': 'White British',\n",
    "    'B': 'White Irish',\n",
    "    'C': 'Any other White background',\n",
    "    'CA': 'English',\n",
    "    'CH': 'Turkish',\n",
    "    'CP': 'Polish',\n",
    "    'D': 'White and Black Caribbean',\n",
    "    'E': 'White and Black African',\n",
    "    'F': 'White and Asian',\n",
    "    'G': 'Any other mixed background',\n",
    "    'H': 'Asian Indian',\n",
    "    'J': 'Asian Pakistani',\n",
    "    'K': 'Asian Bangladeshi',\n",
    "    'L': 'Any other Asian background',\n",
    "    'M': 'Black Caribbean',\n",
    "    'N': 'Black African',\n",
    "    'P': 'Any other Black background',\n",
    "    'R': 'Chinese',\n",
    "    'S': 'Any other ethnic group',\n",
    "    'X': 'Not known',\n",
    "    'Z': 'Not specified' \n",
    "}"
   ]
  },
  {
   "cell_type": "markdown",
   "id": "7fd0e27b-a469-4034-bcba-481de0f7479c",
   "metadata": {},
   "source": [
    "## 1. Distribution of Ethnicities"
   ]
  },
  {
   "cell_type": "code",
   "execution_count": null,
   "id": "f9488fb2-6013-4acd-bde0-f38988bd0021",
   "metadata": {},
   "outputs": [],
   "source": [
    "# shrink the ethnicities\n",
    "def categorize_ethnicity(ethnicity):\n",
    "    if ethnicity in ['White', 'White British', 'White Irish', 'Any other White background', 'English', 'Polish']:\n",
    "        return 'White'\n",
    "    elif ethnicity in ['Asian Indian', 'Asian Pakistani', 'Asian Bangladeshi', 'Any other Asian background', 'Chinese']:\n",
    "        return 'Asian'\n",
    "    elif ethnicity in ['Black Caribbean', 'Black African', 'Any other Black background']:\n",
    "        return 'Black'\n",
    "    elif ethnicity in ['White and Black Caribbean', 'White and Black African', 'White and Asian', 'Any other mixed background']:\n",
    "        return 'Mixed'    \n",
    "    elif ethnicity in ['Turkish']:\n",
    "        return 'Turkish'\n",
    "    elif ethnicity in ['Any other ethnic group']:\n",
    "        return 'Other'\n",
    "    else:\n",
    "        return 'Unknown'\n",
    "\n",
    "# Map the ethnicity codes to their descriptions\n",
    "patients['ETHNICITY_DESC'] = patients['ETHNICITY'].map(ethnicity_mapper)\n",
    "patients['ETHNIC_GROUP'] = patients['ETHNICITY_DESC'].apply(categorize_ethnicity)\n",
    "plt.figure()\n",
    "sns.barplot(patients['ETHNIC_GROUP'].value_counts())\n",
    "plt.title(\"Distribution of Ethnic Groups\")\n",
    "plt.xlabel(\"Ethnic Group\")\n",
    "plt.ylabel(\"No. of Patients\")\n",
    "plt.show()"
   ]
  },
  {
   "cell_type": "code",
   "execution_count": null,
   "id": "b52d8bc3-03f5-49ea-9772-58c1b0f2bab9",
   "metadata": {},
   "outputs": [],
   "source": [
    "combined_data = patients.merge(tumours, on='PATIENTID', how='inner')\n",
    "print(patients.shape)\n",
    "print(tumours.shape)\n",
    "print(combined_data.shape)"
   ]
  },
  {
   "cell_type": "code",
   "execution_count": null,
   "id": "6bdcef09-951b-4cd2-9888-d1e57e215ad2",
   "metadata": {},
   "outputs": [],
   "source": [
    "combined_data = combined_data[combined_data['ETHNIC_GROUP']!='Unknown']\n",
    "combined_data.columns"
   ]
  },
  {
   "cell_type": "code",
   "execution_count": null,
   "id": "5441bd2c-82ec-40dc-9719-442f53e26c46",
   "metadata": {},
   "outputs": [],
   "source": [
    "analysis_cols = ['ETHNIC_GROUP', 'AGE', 'GLEASON_PRIMARY', 'GLEASON_SECONDARY', 'GLEASON_TERTIARY', 'GLEASON_COMBINED', 'GRADE', 'STAGE_BEST', 'T_BEST', 'M_BEST', 'N_BEST']\n",
    "analysis_data = combined_data[analysis_cols]\n",
    "\n",
    "plt.figure()\n",
    "sns.barplot(analysis_data['ETHNIC_GROUP'].value_counts())\n",
    "plt.title(\"Distribution of Ethnic Groups\")\n",
    "plt.xlabel(\"Ethnic Group\")\n",
    "plt.ylabel(\"No. of Patients\")\n",
    "plt.show()"
   ]
  },
  {
   "cell_type": "markdown",
   "id": "3f50305c-e847-4a1d-be81-fc44bde6e97c",
   "metadata": {},
   "source": [
    "## 2. Is there a notable variation for age at dianosis across ethnicities?"
   ]
  },
  {
   "cell_type": "code",
   "execution_count": null,
   "id": "196592ce-6cb2-4f61-bf1c-be641ec4e8ea",
   "metadata": {},
   "outputs": [],
   "source": [
    "analysis_data.groupby('ETHNIC_GROUP')['AGE'].agg(['count', 'mean', 'std', 'median', 'min', 'max'])"
   ]
  },
  {
   "cell_type": "code",
   "execution_count": null,
   "id": "670e96e1-7a6e-4a46-b547-fbb1cf1f02af",
   "metadata": {},
   "outputs": [],
   "source": [
    "sns.violinplot(x='ETHNIC_GROUP', y='AGE', data=analysis_data,\n",
    "               order=['Asian', 'Black', 'Mixed', 'Other', 'White'], inner='box')\n",
    "plt.title('Distribution of Age at Diagnosis by Ethnic Group')\n",
    "plt.ylabel('Age')\n",
    "plt.xlabel('Ethnic Group')\n",
    "plt.xticks(rotation=45)\n",
    "plt.tight_layout()\n",
    "# plt.savefig('age_by_ethnicity_violin.png')\n",
    "plt.show()"
   ]
  },
  {
   "cell_type": "code",
   "execution_count": null,
   "id": "225c766c-089d-4807-9d3b-11e36644f2a6",
   "metadata": {},
   "outputs": [],
   "source": [
    "# ANOVA test for significant differences across ages\n",
    "model = ols('AGE ~ C(ETHNIC_GROUP)', data=analysis_data).fit()\n",
    "anova_table = sm.stats.anova_lm(model, typ=2)\n",
    "anova_table"
   ]
  },
  {
   "cell_type": "code",
   "execution_count": null,
   "id": "7e1bedae-9757-4dd7-9b0a-f325b77ee716",
   "metadata": {},
   "outputs": [],
   "source": [
    "# post-hoc tests\n",
    "posthoc = pairwise_tukeyhsd( analysis_data['AGE'], analysis_data['ETHNIC_GROUP'],alpha=0.05)\n",
    "\n",
    "print(posthoc)"
   ]
  },
  {
   "cell_type": "markdown",
   "id": "b2c59afc-5881-447c-8221-3e2455dc9d82",
   "metadata": {},
   "source": [
    "Statistically, there is no evidence that ethnicity affects the age at diagnosis, though it's close (0.08).\n",
    "\n",
    "Therefore, we cannot infer that men from a particular ethnic group are diagnosed at an earlier or later age.\n",
    "\n",
    "\n",
    "## 3. How does the Gleason score at Diagnostic interact with ethnicity?"
   ]
  },
  {
   "cell_type": "code",
   "execution_count": null,
   "id": "9136fd22-59d0-4743-8292-54d063033cf6",
   "metadata": {},
   "outputs": [],
   "source": [
    "analysis_data[analysis_data['GLEASON_COMBINED'].isnull()]"
   ]
  },
  {
   "cell_type": "code",
   "execution_count": null,
   "id": "28672e6b-b1bb-42f7-83c7-9360f92c2fcb",
   "metadata": {},
   "outputs": [],
   "source": [
    "analysis_data[['GLEASON_PRIMARY', 'GLEASON_PRIMARY', 'GLEASON_TERTIARY', 'GLEASON_COMBINED']]"
   ]
  },
  {
   "cell_type": "code",
   "execution_count": null,
   "id": "b3768173-82bc-4338-ad92-fc21835be27e",
   "metadata": {},
   "outputs": [],
   "source": [
    "def assign_grade_group(row):\n",
    "    \"\"\"\n",
    "    Create Tumour Grade Group based on the GLEASON SCORE as defined here:\n",
    "\n",
    "     RESOURCE: https://www.cancerresearchuk.org/about-cancer/prostate-cancer/stages/grades\n",
    "    \"\"\"\n",
    "    primary = row['GLEASON_PRIMARY']\n",
    "    secondary = row['GLEASON_SECONDARY']\n",
    "    if pd.isna(primary) or pd.isna(secondary):\n",
    "        return np.nan\n",
    "    gleason_sum = primary + secondary\n",
    "    if gleason_sum <= 6: return 1\n",
    "    elif gleason_sum == 7: return 2 if primary == 3 else 3\n",
    "    elif gleason_sum == 8: return 4\n",
    "    elif gleason_sum >= 9: return 5\n",
    "    return np.nan\n",
    "\n",
    "analysis_data['GRADE_GROUP'] = analysis_data.apply(assign_grade_group, axis=1)\n",
    "\n",
    "grade_labels = {\n",
    "    1: 'Grade 1 (Low)', 2: 'Grade 2 (Intermediate)', 3: 'Grade 3 (Intermediate)',\n",
    "    4: 'Grade 4 (High)', 5: 'Grade 5 (Very High)'}\n",
    "\n",
    "analysis_data['GRADE_LABEL'] = analysis_data['GRADE_GROUP'].map(grade_labels)"
   ]
  },
  {
   "cell_type": "code",
   "execution_count": null,
   "id": "4aab3615-89b2-479d-9f68-d944d22b5e42",
   "metadata": {},
   "outputs": [],
   "source": [
    "grade_dist = pd.crosstab(analysis_data['ETHNIC_GROUP'], analysis_data['GRADE_LABEL'], normalize='index')\n",
    "risk_colormap = ['#2ca02c', '#ff7f0e', '#d62728', '#9467bd', '#8c564b'] # Custom colors\n",
    "\n",
    "ax = grade_dist.plot(kind='bar', stacked=True, figsize=(12, 7), color=risk_colormap, edgecolor='white')\n",
    "plt.title('Distribution of Prostate Cancer Grade by Ethnicity', fontsize=16)\n",
    "plt.ylabel('Proportion of Patients', fontsize=12)\n",
    "plt.xlabel('Ethnic Group', fontsize=12)\n",
    "plt.xticks(rotation=45, ha='right')\n",
    "plt.legend(title='Grade Group', bbox_to_anchor=(1.02, 1))\n",
    "plt.tight_layout()\n",
    "# plt.savefig('cancer_grade_groups_by_ethnicity.png')\n",
    "plt.show()\n"
   ]
  },
  {
   "cell_type": "code",
   "execution_count": null,
   "id": "2c6d8ff0-7324-4526-acb4-038393f1aac5",
   "metadata": {},
   "outputs": [],
   "source": [
    "# Test for statistical significance\n",
    "contingency_table = pd.crosstab(analysis_data['ETHNIC_GROUP'], analysis_data['GRADE_LABEL'])\n",
    "chi2, p_value, _, _ = chi2_contingency(contingency_table)\n",
    "print(f\"Chi-Square Test for Grade vs. Ethnicity: p-value = {p_value:.4f}\")\n",
    "if p_value < 0.05:\n",
    "    print(\"Conclusion: There is a statistically significant association between ethnicity and cancer grade.\")\n",
    "else:\n",
    "    print(\"Conclusion: There is no statistically significant association between ethnicity and cancer grade.\")"
   ]
  },
  {
   "cell_type": "code",
   "execution_count": null,
   "id": "a9ff708a-a1ef-479d-aadf-1e06964261d4",
   "metadata": {},
   "outputs": [],
   "source": [
    "# proportion of high-risk grade by ethnic group\n",
    "analysis_data['HIGH_RISK'] = analysis_data['GRADE_GROUP'].isin([4,5])\n",
    "high_risk_by_ethnicity = analysis_data.groupby('ETHNIC_GROUP')['HIGH_RISK'].mean()\n",
    "plt.figure(figsize=(12, 6))\n",
    "high_risk_by_ethnicity.plot(kind='bar', color='firebrick')\n",
    "plt.title('Proportion of High-Risk Cancer Grade by Ethnicity', fontsize=16)\n",
    "plt.xlabel('Ethnic Group', fontsize=14)\n",
    "plt.ylabel('Proportion with High risk Gleason', fontsize=14)\n",
    "plt.grid(True, linestyle='--', alpha=0.3)\n",
    "plt.tight_layout()\n",
    "# plt.savefig('high_risk_cancer_grade_by_ethnicity.png')\n",
    "plt.show()\n"
   ]
  },
  {
   "cell_type": "markdown",
   "id": "48533856-a852-4848-9357-85443500e7c1",
   "metadata": {},
   "source": [
    "### 4. How Does Vitalstatus Interact with Ethnicity?"
   ]
  },
  {
   "cell_type": "code",
   "execution_count": null,
   "id": "257a4df1-e122-43ba-a32b-08332a237105",
   "metadata": {},
   "outputs": [],
   "source": [
    "def categorize_vital_status(code):\n",
    "    if code in ['D', 'D3', 'D4', 'D5']:\n",
    "        return 'Dead'\n",
    "    elif code == 'A':\n",
    "        return 'Alive'\n",
    "    elif code in ['X', 'X2', 'X4', 'X5']:\n",
    "        return 'Censored (Lost/Embarked)'\n",
    "    else:\n",
    "        return 'Unknown'\n",
    "\n",
    "combined_data['OUTCOME_GROUP'] = combined_data['VITALSTATUS'].apply(categorize_vital_status)\n",
    "\n",
    "\n",
    "combined_data['DIAGNOSISDATEBEST'] = pd.to_datetime(combined_data['DIAGNOSISDATEBEST'])\n",
    "combined_data['VITALSTATUSDATE'] = pd.to_datetime(combined_data['VITALSTATUSDATE'])\n",
    "\n",
    "combined_data['SURVIVAL_MONTHS'] = (combined_data['VITALSTATUSDATE'] - combined_data['DIAGNOSISDATEBEST']).dt.days / 30\n",
    "combined_data.dropna(subset=['SURVIVAL_MONTHS'], inplace=True) \n",
    "\n",
    "\n",
    "combined_data['EVENT'] = np.where(combined_data['OUTCOME_GROUP'] == 'Dead', 1, 0)\n",
    "\n",
    "survival_data = combined_data[['ETHNIC_GROUP', 'SURVIVAL_MONTHS', 'EVENT', 'OUTCOME_GROUP']]\n",
    "\n",
    "survival_data.head()\n"
   ]
  },
  {
   "cell_type": "code",
   "execution_count": null,
   "id": "d012c194-5e7d-4319-89f3-d16b99c42d2a",
   "metadata": {},
   "outputs": [],
   "source": [
    "survival_data['OUTCOME_GROUP'].value_counts()"
   ]
  },
  {
   "cell_type": "code",
   "execution_count": null,
   "id": "debcd5d4-3fc8-4f1c-b637-9c1ca18608fc",
   "metadata": {},
   "outputs": [],
   "source": [
    "outcome_distribution = pd.crosstab(\n",
    "    survival_data['ETHNIC_GROUP'],\n",
    "    survival_data['OUTCOME_GROUP'],\n",
    "    normalize='index' \n",
    ")\n",
    "\n",
    "outcome_distribution = outcome_distribution.sort_values('Dead', ascending=False)\n",
    "\n",
    "# stacked bar chart\n",
    "ax = outcome_distribution.plot(\n",
    "    kind='bar',\n",
    "    stacked=True,\n",
    "    figsize=(12, 7),\n",
    "    colormap='viridis',\n",
    "    edgecolor='white'\n",
    ")\n",
    "\n",
    "plt.title('Final Outcome Distribution by Ethnic Group', fontsize=16)\n",
    "plt.ylabel('Proportion of Patients', fontsize=12)\n",
    "plt.xlabel('Ethnic Group', fontsize=12)\n",
    "plt.xticks(rotation=45, ha='right')\n",
    "plt.legend(title='Outcome', bbox_to_anchor=(1.02, 1))\n",
    "plt.tight_layout()\n",
    "plt.show()"
   ]
  },
  {
   "cell_type": "code",
   "execution_count": null,
   "id": "59a4cb25-e14d-483e-ac1e-b7e273e7da35",
   "metadata": {},
   "outputs": [],
   "source": [
    "plt.figure(figsize=(16, 9))\n",
    "\n",
    "sns.violinplot(\n",
    "    data=survival_data,\n",
    "    x='ETHNIC_GROUP',\n",
    "    y='SURVIVAL_MONTHS',\n",
    "    hue='OUTCOME_GROUP',\n",
    "    palette={'Dead': '#d62728', 'Alive': '#2ca02c', 'Censored (Lost/Embarked)': '#ff7f0e'},\n",
    "    split=True,\n",
    "    inner='quartile', \n",
    "    linewidth=1.5\n",
    ")\n",
    "\n",
    "plt.title('Distribution of Survival Months by Outcome and Ethnicity', fontsize=18)\n",
    "plt.xlabel('Ethnic Group', fontsize=14)\n",
    "plt.ylabel('Follow-up Time (Months)', fontsize=14)\n",
    "plt.xticks(rotation=45, ha='right')\n",
    "plt.legend(title='Final Outcome', bbox_to_anchor=(1.02, 1))\n",
    "plt.ylim(0, 100) \n",
    "plt.tight_layout()\n",
    "plt.show()"
   ]
  },
  {
   "cell_type": "markdown",
   "id": "dd8f30b8-dc04-47b3-9c81-beeec7b2b230",
   "metadata": {},
   "source": [
    "## PSA"
   ]
  },
  {
   "cell_type": "code",
   "execution_count": null,
   "id": "78aa67fa-72aa-46e4-b714-d43b9afaac5a",
   "metadata": {},
   "outputs": [],
   "source": [
    "# RESOURCE: https://www.cancerresearchuk.org/about-cancer/tests-and-scans/prostate-specific-antigen-psa-test\n",
    "\n",
    "# PSA Information nod found in the data\n",
    "\n",
    "\n",
    "\n",
    "\n"
   ]
  },
  {
   "cell_type": "markdown",
   "id": "f7e87fb2-03a2-4f75-ac08-f286327e6997",
   "metadata": {},
   "source": [
    "### 5. At what stage are patients from different ethnic groups diagnosed?"
   ]
  },
  {
   "cell_type": "code",
   "execution_count": null,
   "id": "5d745a72-4553-4042-bf0c-8b4386f30526",
   "metadata": {},
   "outputs": [],
   "source": [
    "stage_distribution = pd.crosstab(\n",
    "    analysis_data['ETHNIC_GROUP'],\n",
    "    analysis_data['STAGE_BEST'],\n",
    "    normalize='index'\n",
    ")\n",
    "\n",
    "stage_distribution\n"
   ]
  },
  {
   "cell_type": "code",
   "execution_count": null,
   "id": "8461af26-6174-4925-9979-fede60f955f9",
   "metadata": {},
   "outputs": [],
   "source": [
    "plt.figure(figsize=(14, 7))\n",
    "stage_distribution.plot(kind='bar', stacked=True, colormap='plasma')\n",
    "plt.title('Cancer Stage Distribution by Ethnicity', fontsize=16)\n",
    "plt.xlabel('Ethnic Group', fontsize=14)\n",
    "plt.ylabel('Proportion', fontsize=14)\n",
    "plt.legend(title='Cancer Stage', bbox_to_anchor=(1.05, 1), loc='upper left')\n",
    "plt.grid(True, linestyle='--', alpha=0.3)\n",
    "plt.tight_layout()\n",
    "# plt.savefig('stage_by_ethnicity.png')\n",
    "plt.show()"
   ]
  },
  {
   "cell_type": "code",
   "execution_count": null,
   "id": "c49c3d08-be98-4770-8a9c-1fe1e76f225d",
   "metadata": {},
   "outputs": [],
   "source": [
    "stage_mapper =  {\n",
    "  '0': 'Stage 0',\n",
    " '0A': 'Stage 0',\n",
    " '0IS': 'Stage 0',\n",
    " '1': 'Stage 1',\n",
    " '1A': 'Stage 1',\n",
    " '1A1': 'Stage 1',\n",
    " '1A2': 'Stage 1',\n",
    " '1A3': 'Stage 1',\n",
    " '1AE': 'Stage 1',\n",
    " '1AES': 'Stage 1',\n",
    " '1AEX': 'Stage 1',\n",
    " '1AX': 'Stage 1',\n",
    " '1B': 'Stage 1',\n",
    " '1B1': 'Stage 1',\n",
    " '1B2': 'Stage 1',\n",
    " '1BE': 'Stage 1',\n",
    " '1C': 'Stage 1',\n",
    " '1C1': 'Stage 1',\n",
    " '1C2': 'Stage 1',\n",
    " '1C3': 'Stage 1',\n",
    " '1E': 'Stage 1',\n",
    " '1EX': 'Stage 1',\n",
    " '1S': 'Stage 1',\n",
    " '1X': 'Stage 1',\n",
    " '2': 'Stage 2',\n",
    " '2A': 'Stage 2',\n",
    " '2A1': 'Stage 2',\n",
    " '2A2': 'Stage 2',\n",
    " '2AE': 'Stage 2',\n",
    " '2AEX': 'Stage 2',\n",
    " '2AS': 'Stage 2',\n",
    " '2AX': 'Stage 2',\n",
    " '2B': 'Stage 2',\n",
    " '2BEX': 'Stage 2',\n",
    " '2BX': 'Stage 2',\n",
    " '2C': 'Stage 2',\n",
    " '2E': 'Stage 2',\n",
    " '2S': 'Stage 2',\n",
    " '2X': 'Stage 2',\n",
    " '3': 'Stage 3',\n",
    " '3A': 'Stage 3',\n",
    " '3A1': 'Stage 3',\n",
    " '3A1i': 'Stage 3',\n",
    " '3A1ii': 'Stage 3',\n",
    " '3A2': 'Stage 3',\n",
    " '3AE': 'Stage 3',\n",
    " '3AES': 'Stage 3',\n",
    " '3Ai': 'Stage 3',\n",
    " '3Aii': 'Stage 3',\n",
    " '3AS': 'Stage 3',\n",
    " '3AX': 'Stage 3',\n",
    " '3B': 'Stage 3',\n",
    " '3BE': 'Stage 3',\n",
    " '3Bii': 'Stage 3',\n",
    " '3BX': 'Stage 3',\n",
    " '3C': 'Stage 3',\n",
    " '3C1': 'Stage 3',\n",
    " '3C2': 'Stage 3',\n",
    " '3D': 'Stage 3',\n",
    " '3E': 'Stage 3',\n",
    " '3ES': 'Stage 3',\n",
    " '3S': 'Stage 3',\n",
    " '4': 'Stage 4',\n",
    " '4A': 'Stage 4',\n",
    " '4AE': 'Stage 4',\n",
    " '4AES': 'Stage 4',\n",
    " '4AEXS': 'Stage 4',\n",
    " '4AS': 'Stage 4',\n",
    " '4AX': 'Stage 4',\n",
    " '4B': 'Stage 4',\n",
    " '4BE': 'Stage 4',\n",
    " '4BES': 'Stage 4',\n",
    " '4BEX': 'Stage 4',\n",
    " '4BEXS': 'Stage 4',\n",
    " '4BS': 'Stage 4',\n",
    " '4BX': 'Stage 4',\n",
    " '4BXS': 'Stage 4',\n",
    " '4C': 'Stage 4',\n",
    " '4E': 'Stage 4',\n",
    " '4ES': 'Stage 4',\n",
    " '4S': 'Stage 4',\n",
    " '4X': 'Stage 4',\n",
    " '5': 'Outdated or invalid code',\n",
    " '?': 'Insufficient information',\n",
    " 'U': 'Unstageable',\n",
    " 'X': 'Not staged',\n",
    " 'A': 'RaiBinet stage',\n",
    " 'B': 'RaiBinet stage',\n",
    " 'C': 'RaiBinet stage',\n",
    " 'L1': 'Unmapped value',\n",
    " 'L2': 'Unmapped value',\n",
    " 'M': 'Unmapped value',\n",
    " 'M0': 'Unmapped value',\n",
    " 'M1': 'Unmapped value',\n",
    " 'M2': 'Unmapped value',\n",
    " 'M3': 'Unmapped value',\n",
    " 'MS': 'Unmapped value'}"
   ]
  },
  {
   "cell_type": "code",
   "execution_count": null,
   "id": "d12cc780-9e4a-4484-9365-717075764a9b",
   "metadata": {},
   "outputs": [],
   "source": [
    "analysis_data['Cancer Stage']=analysis_data['STAGE_BEST'].map(stage_mapper)"
   ]
  },
  {
   "cell_type": "code",
   "execution_count": null,
   "id": "cf279457-dded-4cf4-8b85-c0d21909d197",
   "metadata": {},
   "outputs": [],
   "source": [
    "# Distribution of cancer stages by ethnic group\n",
    "stage_distribution = pd.crosstab(\n",
    "    analysis_data['ETHNIC_GROUP'],\n",
    "    analysis_data['Cancer Stage'],\n",
    "    normalize='index'\n",
    ")\n",
    "\n",
    "stage_distribution\n"
   ]
  },
  {
   "cell_type": "code",
   "execution_count": null,
   "id": "a08caf13-9b97-4a28-b947-28b4dcad49f6",
   "metadata": {},
   "outputs": [],
   "source": [
    "plt.figure(figsize=(14, 7))\n",
    "stage_distribution.plot(kind='bar', stacked=True, colormap='plasma')\n",
    "plt.title('Cancer Stage Distribution by Ethnicity', fontsize=16)\n",
    "plt.xlabel('Ethnic Group', fontsize=14)\n",
    "plt.ylabel('Proportion', fontsize=14)\n",
    "plt.legend(title='Cancer Stage', bbox_to_anchor=(1.05, 1), loc='upper left')\n",
    "plt.grid(True, linestyle='--', alpha=0.3)\n",
    "plt.tight_layout()\n",
    "# plt.savefig('stage_by_ethnicity.png')\n",
    "plt.show()"
   ]
  },
  {
   "cell_type": "code",
   "execution_count": null,
   "id": "44ef463d-4618-4141-8f49-45629472f413",
   "metadata": {},
   "outputs": [],
   "source": [
    "# chi-square test\n",
    "stage_contingency = pd.crosstab(analysis_data['ETHNIC_GROUP'], analysis_data['Cancer Stage'])\n",
    "chi2_stage, p_stage, dof_stage, expected_stage = stats.chi2_contingency(stage_contingency)\n",
    "print(\"\\n\\nChi-square test for Cancer Stage by Ethnicity:\")\n",
    "print(f\"Chi-square statistic: {chi2_stage:.2f}\")\n",
    "print(f\"p-value: {p_stage:.4f}\")\n",
    "if p_stage < 0.05:\n",
    "    print(\"There is a significant association between ethnicity and cancer stage at diagnosis.\")\n",
    "else:\n",
    "    print(\"There is no significant association between ethnicity and cancer stage at diagnosis.\")"
   ]
  },
  {
   "cell_type": "code",
   "execution_count": null,
   "id": "85218e48-91f9-4e95-8031-9f48bdb3ea40",
   "metadata": {},
   "outputs": [],
   "source": [
    "# analyse advanced cancer stages only\n",
    "plt.figure(figsize=(14, 8))\n",
    "stage_by_ethnicity = pd.crosstab(\n",
    "    analysis_data['ETHNIC_GROUP'], \n",
    "    analysis_data['Cancer Stage'],\n",
    "    normalize='index'\n",
    ")\n",
    "\n",
    "valid_stages = ['Stage 1', 'Stage 2', 'Stage 3', 'Stage 4'] # COULDN'T FIND LITERATURE ON RaiBinet THUS EXCLUDING IT\n",
    "critical_stages = [stage for stage in valid_stages if stage in stage_by_ethnicity.columns]\n",
    "stage_by_ethnicity = stage_by_ethnicity[valid_stages]\n",
    "\n",
    "\n",
    "ax = stage_by_ethnicity.plot(\n",
    "    kind='bar', \n",
    "    stacked=True, \n",
    "    figsize=(14, 8),\n",
    "    colormap='YlOrRd',  )\n",
    "\n",
    "plt.title('Cancer Stage Distribution by Ethnicity at Diagnosis', fontsize=18, pad=20)\n",
    "plt.xlabel('Ethnic Group', fontsize=16)\n",
    "plt.ylabel('Proportion of Patients', fontsize=16)\n",
    "plt.legend(title='Cancer Stage', \n",
    "           title_fontsize=14, \n",
    "           fontsize=12, \n",
    "           bbox_to_anchor=(1.05, 1),\n",
    "           loc='upper left')\n",
    "plt.xticks(rotation=45, ha='right', fontsize=14)\n",
    "plt.yticks(fontsize=14)\n",
    "plt.grid(axis='y', linestyle='--', alpha=0.7)\n",
    "\n",
    "for container in ax.containers:\n",
    "    ax.bar_label(container, labels=['%.2f%%' % (x*100) for x in container.datavalues], \n",
    "                 label_type='center', fontsize=10)\n",
    "\n",
    "plt.tight_layout()\n",
    "# plt.savefig('detailed_stage_by_ethnicity.png', dpi=300, bbox_inches='tight')\n",
    "plt.show()"
   ]
  },
  {
   "cell_type": "code",
   "execution_count": null,
   "id": "f713157d-8a2b-4a91-b881-ad3d54177e5f",
   "metadata": {},
   "outputs": [],
   "source": [
    "analysis_data=analysis_data[analysis_data['Cancer Stage'].isin(valid_stages)]\n",
    "\n",
    "stage_contingency = pd.crosstab(analysis_data['ETHNIC_GROUP'], analysis_data['Cancer Stage'])\n",
    "\n",
    "def standardized_residuals(observed):\n",
    "    chi2, p, dof, expected = stats.chi2_contingency(observed)\n",
    "    residuals = (observed - expected) / np.sqrt(expected)\n",
    "    return residuals\n",
    "\n",
    "std_residuals = standardized_residuals(stage_contingency)\n",
    "std_residuals_df = pd.DataFrame(\n",
    "    std_residuals,\n",
    "    index=stage_contingency.index,\n",
    "    columns=stage_contingency.columns\n",
    ")\n",
    "std_residuals_df"
   ]
  },
  {
   "cell_type": "code",
   "execution_count": null,
   "id": "5997b03b-a9f6-4224-b0ee-fa43b273723d",
   "metadata": {},
   "outputs": [],
   "source": [
    "plt.figure(figsize=(12, 8))\n",
    "sns.heatmap( std_residuals_df, annot=True, cmap='RdBu_r', center=0, fmt='.3f' )\n",
    "plt.title('Standardized Residuals: Ethnicity vs. Cancer Stage', fontsize=16)\n",
    "plt.xlabel('Cancer Stage', fontsize=14)\n",
    "plt.ylabel('Ethnic Group', fontsize=14)\n",
    "plt.tight_layout()\n",
    "# plt.savefig('stage_residuals_heatmap.png', dpi=300)\n",
    "plt.show()\n"
   ]
  },
  {
   "cell_type": "markdown",
   "id": "2c5f1039-f03b-401d-8884-2ba7765bfa48",
   "metadata": {},
   "source": [
    "### Conclusion\n",
    "- Men of the **Mixed** race are diagnosed at an advanced stage (**Stage 4**) than men of any other race.\n",
    "\n",
    "- More **Black** are diagnosed at an advanced stage (**Stage 4**) compared to **White** and **Asian** races.\n",
    "\n",
    "\n",
    "- More men of the **Black** race are diagnosed at advanced stage 3 than any other race, followed by men of the **Other** race.\n",
    "\n",
    "\n",
    "- There is no statistical significance between ethnicity and age of diagnosis.\n",
    "\n",
    "  \n",
    "- There is no statistical significance between ethnicity and gleason score at the time of diagnosis.\n"
   ]
  },
  {
   "cell_type": "code",
   "execution_count": null,
   "id": "1a04c9a0-9157-4b3a-ab11-b390c37545c7",
   "metadata": {},
   "outputs": [],
   "source": [
    "\n",
    "\n",
    "\n",
    "\n",
    "\n",
    "\n",
    "\n",
    "\n",
    "\n",
    "\n"
   ]
  },
  {
   "cell_type": "markdown",
   "id": "4181d12e-8177-4627-b182-8e2945a18fb8",
   "metadata": {},
   "source": [
    "## Next Analysis \n",
    "\n",
    "- GRADE - tumour grades\n",
    "- PSA\n",
    "- HER2 status of the tumour (human epidermal growth factor receptor 2 - this factor facilitates growthe of cancer).\n",
    "- laterality\n",
    "- BEHAVIOUR_ICD10_O2 "
   ]
  },
  {
   "cell_type": "code",
   "execution_count": null,
   "id": "b4b00a0e-a558-4682-8512-d7494e49c0c4",
   "metadata": {},
   "outputs": [],
   "source": [
    "tumours['GRADE'].value_counts()"
   ]
  },
  {
   "cell_type": "code",
   "execution_count": null,
   "id": "cdb94924-6016-4ce7-9a59-85efab5e1d6c",
   "metadata": {},
   "outputs": [],
   "source": [
    "# whichif the grades is worse than the other?\n",
    "grades_mapper = {\n",
    "    \"G\": \"Borderline malignancy\",\n",
    "    \"G1\": \"Well differentiated\",\n",
    "    \"G2\": \"Moderately differentiated\",\n",
    "    \"G3\": \"Poorly differentiated\",\n",
    "    \"G4\": \"Undifferentiated / Anaplastic\",\n",
    "    \"GH\": \"High\",\n",
    "    \"GI\": \"Intermediate\",\n",
    "    \"GL\": \"Low\",\n",
    "    \"GX\": \"Grade cannot be assessed\"\n",
    "}\n"
   ]
  },
  {
   "cell_type": "code",
   "execution_count": null,
   "id": "616bc655-2ffc-4289-8959-9392fa849bd9",
   "metadata": {},
   "outputs": [],
   "source": [
    "combined_data['GRADE_DESC'] = combined_data['GRADE'].map(grades_mapper)"
   ]
  },
  {
   "cell_type": "code",
   "execution_count": null,
   "id": "411ef862-4a40-4600-85e0-014f0a65c4be",
   "metadata": {},
   "outputs": [],
   "source": [
    "combined_data['GRADE_DESC'].value_counts()"
   ]
  },
  {
   "cell_type": "code",
   "execution_count": null,
   "id": "9b37cb85-fb5d-40cb-ace8-58a308424537",
   "metadata": {},
   "outputs": [],
   "source": [
    "grade_percentages = pd.crosstab(\n",
    "    combined_data['ETHNIC_GROUP'], \n",
    "    combined_data['GRADE_DESC'], \n",
    "    normalize='index'\n",
    ") * 100\n",
    "\n",
    "\n",
    "plt.figure(figsize=(12, 8))\n",
    "grade_percentages.plot(\n",
    "    kind='bar', \n",
    "    stacked=True,\n",
    "    colormap='viridis',    \n",
    ")\n",
    "\n",
    "plt.title('Distribution of Prostate Cancer Grades by Ethnicity')\n",
    "plt.xlabel('Ethnic Group')\n",
    "plt.ylabel('Percentage')\n",
    "plt.legend(title='Grade', bbox_to_anchor=(1.05, 1), loc='upper left')\n",
    "plt.xticks(rotation=45, ha='right')\n",
    "plt.tight_layout()\n",
    "# plt.savefig(\"distributionOfGradesByEthnicity.png\")\n",
    "plt.show()\n"
   ]
  },
  {
   "cell_type": "code",
   "execution_count": null,
   "id": "13422be1-6521-4edb-b587-44081115ab63",
   "metadata": {},
   "outputs": [],
   "source": [
    "grade_counts = pd.crosstab(combined_data['ETHNIC_GROUP'], combined_data['GRADE_DESC'])\n",
    "\n",
    "chi2, p_value, dof, expected = chi2_contingency(grade_counts)\n",
    "print(f\"\\nChi-square test p-value: {p_value:.4f}\")"
   ]
  },
  {
   "cell_type": "code",
   "execution_count": null,
   "id": "e88b6413-cacd-489a-a0d4-0171c0cfe5c4",
   "metadata": {},
   "outputs": [],
   "source": [
    "# whic of the leterality is a good/bad indicator than the ohter\n",
    "laterality_map = {\n",
    "    'B': 'Bilateral',\n",
    "    'L': 'Left-Sided',\n",
    "    'R': 'Right-Sided',\n",
    "    'M': 'Midline'\n",
    "}\n",
    "combined_data['LATERALITY_DESC'] = combined_data['LATERALITY'].map(laterality_map)\n",
    "\n",
    "\n",
    "combined_data['LATERALITY_DESC'].value_counts(dropna=False) # alot of the data is missing could it be that medics are failing to record an importan aspect?\n"
   ]
  },
  {
   "cell_type": "code",
   "execution_count": null,
   "id": "a6b48651-e273-4e66-9b6d-97838de5ab85",
   "metadata": {},
   "outputs": [],
   "source": [
    "lat_data = combined_data.dropna(subset=['LATERALITY_DESC']).copy() \n",
    "\n",
    "lat_data['LATERALITY_DESC'].value_counts()"
   ]
  },
  {
   "cell_type": "code",
   "execution_count": null,
   "id": "80671e1a-b02a-4d45-a5e0-4617db80b718",
   "metadata": {},
   "outputs": [],
   "source": [
    "# visualize laterality against ethnic group\n",
    "dist_plot = pd.crosstab(\n",
    "    lat_data['ETHNIC_GROUP'],\n",
    "    lat_data['LATERALITY_DESC'],\n",
    "    normalize='index'\n",
    ")\n",
    "\n",
    "ax = dist_plot.plot(\n",
    "    kind='bar',\n",
    "    stacked=True,\n",
    "    figsize=(12, 7),\n",
    "    colormap='Accent', \n",
    "    edgecolor='white'\n",
    ")\n",
    "\n",
    "plt.title('Distribution of Tumor Laterality by Ethnicity', fontsize=16)\n",
    "plt.ylabel('Proportion of Tumors', fontsize=12)\n",
    "plt.xlabel('Ethnic Group', fontsize=12)\n",
    "plt.xticks(rotation=45, ha='right')\n",
    "plt.legend(title='Laterality', bbox_to_anchor=(1.02, 1))\n",
    "plt.tight_layout()\n",
    "plt.show()\n",
    "\n",
    "contingency_table = pd.crosstab(lat_data['ETHNIC_GROUP'], lat_data['LATERALITY_DESC'])\n",
    "chi2, p_value, _, _ = chi2_contingency(contingency_table)\n",
    "\n",
    "print(f\"\\n== Chi-Square Test for Overall Laterality vs. Ethnicity ==\")\n",
    "print(f\"P-value: {p_value:.4f}\")\n",
    "\n",
    "if p_value < 0.05:\n",
    "    print(\"Conclusion: There is a statistically significant association between ethnicity and the distribution of tumor laterality.\")\n",
    "else:\n",
    "    print(\"Conclusion: No significant association found.\")"
   ]
  },
  {
   "cell_type": "code",
   "execution_count": null,
   "id": "3283f71b-9e26-4cbe-8e97-fd5fd6917601",
   "metadata": {},
   "outputs": [],
   "source": [
    "\n",
    "lat_data['DISEASE_EXTENT'] = np.where(lat_data['LATERALITY_DESC'] == 'Bilateral', 'Bilateral', 'Unilateral/Localized')\n",
    "\n",
    "\n",
    "bilateral_prop = lat_data.groupby('ETHNIC_GROUP')['DISEASE_EXTENT'].apply(lambda x: (x == 'Bilateral').mean()).sort_values(ascending=False)\n",
    "\n",
    "plt.figure(figsize=(10, 6))\n",
    "sns.barplot(\n",
    "    x=bilateral_prop.index,\n",
    "    y=bilateral_prop.values,\n",
    "    palette='Reds_r' # Use a color scale that implies severity\n",
    ")\n",
    "plt.title('Proportion of Patients with Bilateral Prostate Cancer by Ethnicity', fontsize=16)\n",
    "plt.ylabel('Proportion with Bilateral Disease', fontsize=12)\n",
    "plt.xlabel('Ethnic Group', fontsize=12)\n",
    "plt.xticks(rotation=45, ha='right')\n",
    "plt.tight_layout()\n",
    "plt.show()\n"
   ]
  },
  {
   "cell_type": "code",
   "execution_count": null,
   "id": "c2c6b47a-4230-4cb5-9def-e8c97916e165",
   "metadata": {},
   "outputs": [],
   "source": [
    "contingency_table_focused = pd.crosstab(lat_data['ETHNIC_GROUP'], lat_data['DISEASE_EXTENT'])\n",
    "chi2_focused, p_value_focused, _, _ = chi2_contingency(contingency_table_focused)\n",
    "\n",
    "contingency_table_focused"
   ]
  },
  {
   "cell_type": "code",
   "execution_count": null,
   "id": "ff38d69f-420f-4b3c-975a-1f2d36afbdb2",
   "metadata": {},
   "outputs": [],
   "source": [
    "\n",
    "if p_value_focused < 0.05:\n",
    "    print(\"Conclusion: There is a statistically significant difference in the proportion of bilateral disease among ethnic groups.\")\n",
    "else:\n",
    "    print(\"Conclusion: No significant difference found in the proportion of bilateral disease.\")"
   ]
  }
 ],
 "metadata": {
  "kernelspec": {
   "display_name": "Python 3 (ipykernel)",
   "language": "python",
   "name": "python3"
  },
  "language_info": {
   "codemirror_mode": {
    "name": "ipython",
    "version": 3
   },
   "file_extension": ".py",
   "mimetype": "text/x-python",
   "name": "python",
   "nbconvert_exporter": "python",
   "pygments_lexer": "ipython3",
   "version": "3.11.7"
  }
 },
 "nbformat": 4,
 "nbformat_minor": 5
}
