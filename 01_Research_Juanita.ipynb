PSA level: Examine if there are differences in PSA levels at diagnosis across ethnicities

Kheirandish P, Chinegwundoh F. Ethnic differences in prostate cancer. Br J Cancer. 2011 Aug 9;105(4):481-5. doi: 10.1038/bjc.2011.273. PMID: 21829203; PMCID: PMC3170971.
From <https://pmc.ncbi.nlm.nih.gov/articles/PMC3170971/> 

Prostate Cancer is higher in black men then in white men worldwide . 
The number of genetic mutations in black men predispose them to this disease. 
Increased detection of PC is due to the increased detection of PSA , a biomarker in diagnosis. 

West African countries access to health- care services and PSA testing is limited.
There is late presentation and higher PSA levels .

A Delphi sub-study- black men diagnosed 5 years earlier than white men. 
GPs were more common source of referral for all men, but black men more likely than white men to be referred by an emergency department or another hospital team .https://pmc.ncbi.nlm.nih.gov/articles/PMC3170971/#bib27 Metcalfe et a, 2008 


Down, L., Barlow, M., Bailey, S.E.R. et al. Association between patient ethnicity and prostate cancer diagnosis following a prostate-specific antigen test: a cohort study of 730,000 men in primary care in the UK. BMC Med 22, 82 (2024). https://doi.org/10.1186/s12916-024-03283-5
From <https://bmcmedicine.biomedcentral.com/articles/10.1186/s12916-024-03283-5?utm_source=chatgpt.com#citeas> 

Black men have higher PSA levels and higher prostate cancer incidence and mortality than white men. 
Majority of information comes from the USA , Uk information is limited 
Those eligible were men aged 40 and over with a record of ethnicity and a PSA test result recorded between 2010 and 2017 with no prior cancer diagnosis.
730,515 men with a PSA test were included (88.9% White). Black men and men with mixed ethnicity had higher PSA values, particularly for those aged above 60 years. In the year following a raised PSA result (using age-specific thresholds), Black men had the highest prostate cancer incidence at 24.7% (95% CI 23.3%, 26.2%); Asian men had the lowest at 13.4% (12.2%, 14.7%); incidence for White men was 19.8% (19.4%, 20.2%). The peak incidence of prostate cancer for all groups was in men aged 70–79. Incidence of prostate cancer diagnosed at an advanced stage was similar between Black and White men.
Black men’s higher baseline PSA levels can lead to overdiagnosis if thresholds aren’t tailored.


https://media.springernature.com/lw685/springer-static/image/art%3A10.1186%2Fs12916-024-03283-5/MediaObjects/12916_2024_3283_Fig2_HTML.png?as=webp

Across both threshold types, Black men have the highest incidence, and Asian men the lowest. Incidence rates drop across all groups when using a fixed PSA threshold.
The gap narrows for advanced cancers:
	• White and Black men have nearly equal risk (especially with fixed thresholds).
	• Asian men again have the lowest incidence of advanced prostate cancer.

Black men consistently show the highest rates of prostate cancer, especially when using age-based PSA thresholds, aligning with the broader epidemiological data.
Asian men show the lowest risk in both early and advanced cancers.
The use of a fixed PSA threshold reduces incidence across all ethnicities, possibly at the cost of underdiagnosing in some age groups.
Advanced cancer rates are more comparable between Black and White men than early-stage cancer rates, but Black men still fare slightly worse under fixed thresholds.

However, Black men with raised PSA in this cohort have not experienced higher rates of advanced prostate cancer, which is reassuring. It is possible that the higher levels of PSA seen in Black men are not the result of higher prostate cancer rates but a causal factor, given the nature of prostate cancer as a typically indolent disease. 


From <https://bmcmedicine.biomedcentral.com/articles/10.1186/s12916-024-03283-5?utm_source=chatgpt.com#Sec14> 
https://media.springernature.com/lw685/springer-static/image/art%3A10.1186%2Fs12916-024-03283-5/MediaObjects/12916_2024_3283_Fig3_HTML.png?as=webp

Across all age groups, Black men have the highest estimated prostate cancer incidence:
	○ Starts above 10% in the 40–49 age group.
	○ Peaks at ~35% in the 70–79 group.
	○ Remains higher than other groups even in the 80+ range.
	
Asian Men Have Lowest Incidence
Starts below 5% in the 40s.
Peaks at ~23–24% in the 70–79 group — well below the same age group in other ethnicities.
Drops significantly in the 80+ group.

White Men Have Intermediate Risk
Starts near 7–8% in the 40–49 age group.
Peaks at around 30% in the 70–79 range.
Shows a visible decline after age 80.

Research indicates that baseline “normal” and “abnormal” PSA levels vary by ethnicity, but current clinical guidelines do not adjust PSA interpretation based on ethnic background
